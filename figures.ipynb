{
 "cells": [
  {
   "cell_type": "markdown",
   "metadata": {},
   "source": [
    "# Transitions"
   ]
  },
  {
   "cell_type": "code",
   "execution_count": 8,
   "metadata": {},
   "outputs": [],
   "source": [
    "import numpy as np\n",
    "import pandas as pd\n",
    "import matplotlib.pyplot as plt\n",
    "import seaborn as sns\n",
    "\n",
    "num = 6\n",
    "\n",
    "# mouse :)\n",
    "xs = array([0.18619929, 0.18619929, 0.22170135, 0.22170135, 0.78374556,\n",
    "       0.78374556, 0.78374556, 0.1166421 , 0.1166421 , 0.1166421 ,\n",
    "       0.1166421 , 0.45470669, 0.45470669, 0.45470669])\n",
    "ys = array([0.05466099, 0.05466099, 0.29825418, 0.29825418, 0.90506983,\n",
    "       0.90506983, 0.90506983, 0.96129774, 0.96129774, 0.96129774,\n",
    "       0.96129774, 0.15138372, 0.15138372, 0.15138372])\n",
    "nums = array([2, 2, 0, 3, 4, 3])\n",
    "\n",
    "xs = np.random.uniform(size=num)\n",
    "ys = np.random.uniform(size=num)\n",
    "nums = np.random.randint(0, 5, size=num)\n",
    "\n",
    "xs = np.array([x for x, n in zip(xs, nums) for _ in range(n)])\n",
    "ys = np.array([y for y, n in zip(ys, nums) for _ in range(n)])\n",
    "ns = np.array([n for n in nums for _ in range(n)])\n",
    "\n",
    "data = pd.DataFrame({'x': xs, 'y': ys})"
   ]
  },
  {
   "cell_type": "code",
   "execution_count": 30,
   "metadata": {},
   "outputs": [
    {
     "data": {
      "text/plain": [
       "array([2, 2, 0, 3, 4, 3])"
      ]
     },
     "execution_count": 30,
     "metadata": {},
     "output_type": "execute_result"
    }
   ],
   "source": [
    "nums"
   ]
  },
  {
   "cell_type": "code",
   "execution_count": 24,
   "metadata": {},
   "outputs": [
    {
     "data": {
      "image/png": "[encoded data removed]",
      "text/plain": [
       "<Figure size 432x288 with 1 Axes>"
      ]
     },
     "metadata": {
      "needs_background": "light"
     },
     "output_type": "display_data"
    }
   ],
   "source": [
    "xoff = 0.4\n",
    "yoff = 0.4\n",
    "xmin = min(data['x']) - xoff\n",
    "xmax = max(data['x']) + xoff\n",
    "ymin = min(data['y']) - yoff\n",
    "ymax = max(data['y']) + yoff\n",
    "\n",
    "fig, ax = plt.subplots()\n",
    "plt.plot(data['x'], data['y'], '*', color='k')\n",
    "ax.set_xlim([xmin, xmax])\n",
    "ax.set_ylim([ymin, ymax])\n",
    "ax.axis(\"off\")\n",
    "plt.savefig(\"img/dots.png\")"
   ]
  },
  {
   "cell_type": "code",
   "execution_count": 25,
   "metadata": {},
   "outputs": [
    {
     "name": "stderr",
     "output_type": "stream",
     "text": [
      "/home/yannik/anaconda3/envs/env/lib/python3.8/site-packages/seaborn/distributions.py:690: UserWarning: Passing a 2D dataset for a bivariate plot is deprecated in favor of kdeplot(x, y), and it will cause an error in future versions. Please update your code.\n",
      "  warnings.warn(warn_msg, UserWarning)\n"
     ]
    },
    {
     "data": {
      "image/png": "[encoded data removed]",
      "text/plain": [
       "<Figure size 432x288 with 1 Axes>"
      ]
     },
     "metadata": {
      "needs_background": "light"
     },
     "output_type": "display_data"
    }
   ],
   "source": [
    "fig, ax = plt.subplots()\n",
    "\n",
    "g = sns.kdeplot(data, shade=True)\n",
    "plt.plot(data['x'], data['y'], '*', color='k')\n",
    "g.set(xlim=[xmin, xmax], ylim=[ymin, ymax])\n",
    "\n",
    "ax.axis(\"off\")\n",
    "plt.savefig(\"img/dots_kde.png\")"
   ]
  },
  {
   "cell_type": "code",
   "execution_count": 26,
   "metadata": {},
   "outputs": [
    {
     "data": {
      "image/png": "[encoded data removed]",
      "text/plain": [
       "<Figure size 432x288 with 1 Axes>"
      ]
     },
     "metadata": {
      "needs_background": "light"
     },
     "output_type": "display_data"
    }
   ],
   "source": [
    "fig, ax = plt.subplots()\n",
    "probs_1 = nums / sum(nums)\n",
    "plt.bar(range(num), probs_1, color='C0')\n",
    "ax.axis(\"off\")\n",
    "plt.savefig(\"img/bars.png\")"
   ]
  },
  {
   "cell_type": "code",
   "execution_count": 27,
   "metadata": {},
   "outputs": [
    {
     "data": {
      "image/png": "[encoded data removed]",
      "text/plain": [
       "<Figure size 432x288 with 1 Axes>"
      ]
     },
     "metadata": {
      "needs_background": "light"
     },
     "output_type": "display_data"
    }
   ],
   "source": [
    "fig, ax = plt.subplots()\n",
    "prob_jump = 0.25\n",
    "probs_2 = probs_1 * (1 - prob_jump)\n",
    "base = [prob_jump / num] * num\n",
    "plt.bar(range(num), base, color='C1')\n",
    "plt.bar(range(num), probs_2, bottom=base, color='C0')\n",
    "ax.axis(\"off\")\n",
    "plt.savefig(\"img/bars_offset.png\")"
   ]
  },
  {
   "cell_type": "code",
   "execution_count": null,
   "metadata": {},
   "outputs": [],
   "source": []
  }
 ],
 "metadata": {
  "kernelspec": {
   "display_name": "Python 3",
   "language": "python",
   "name": "python3"
  },
  "language_info": {
   "codemirror_mode": {
    "name": "ipython",
    "version": 3
   },
   "file_extension": ".py",
   "mimetype": "text/x-python",
   "name": "python",
   "nbconvert_exporter": "python",
   "pygments_lexer": "ipython3",
   "version": "3.8.5"
  }
 },
 "nbformat": 4,
 "nbformat_minor": 4
}
